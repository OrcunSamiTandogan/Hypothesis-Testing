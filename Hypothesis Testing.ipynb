{
 "cells": [
  {
   "cell_type": "markdown",
   "metadata": {},
   "source": [
    "# Protocol\n",
    "1- Define Hypotheses\n",
    "\n",
    "2- Assumption Check\n",
    "\n",
    "3- Select Proper Test \n",
    "\n",
    "4- Check the p value and conclude\n",
    "\n",
    "Test Types \n",
    "* 1-Normality Tests\n",
    "* 1.1-Variance Tests\n",
    "* 2-Correlation Tests\n",
    "* 3-Stationary Tests\n",
    "* 4-Parametric Statistical Hypothesis Tests\n",
    "* 5-Nonparametric Statistical Hypothesis Tests\n",
    "\n",
    "---"
   ]
  },
  {
   "cell_type": "markdown",
   "metadata": {},
   "source": [
    "### Modules"
   ]
  },
  {
   "cell_type": "code",
   "execution_count": 2,
   "metadata": {},
   "outputs": [],
   "source": [
    "import pandas as pd \n",
    "import numpy as np \n",
    "import scipy.stats as stats\n"
   ]
  },
  {
   "cell_type": "markdown",
   "metadata": {},
   "source": [
    "---\n",
    "# 1. Normality Tests"
   ]
  },
  {
   "cell_type": "markdown",
   "metadata": {},
   "source": [
    "Aim: Tests whether a data sample has a Gaussian distribution.\n",
    "\n",
    "Condition: Observations in each sample are independent and identically distributed (iid).\n",
    "* `Kolmogorov-Smirnov:` stats.kstest(data) : https://docs.scipy.org/doc/scipy/reference/generated/scipy.stats.kstest.html#scipy.stats.kstest\n",
    "* `Shapiro-Wilk’s W test:` stats.shapiro(data): https://docs.scipy.org/doc/scipy/reference/generated/scipy.stats.shapiro.html#scipy.stats.shapiro\n",
    "\n",
    "* `D’Agostino and Pearson’s:` stats.normaltest(data,'norm') : https://docs.scipy.org/doc/scipy/reference/generated/scipy.stats.normaltest.html\n"
   ]
  },
  {
   "cell_type": "code",
   "execution_count": 40,
   "metadata": {},
   "outputs": [],
   "source": [
    "def normality_tests(data):\n",
    "    s_normalirty, s_p_value = stats.shapiro(data) \n",
    "    d_normalirty, d_p_value = stats.normaltest(data)  \n",
    "    k_normalirty, k_p_value = stats.kstest(data, 'norm') \n",
    "    return(s_p_value,d_p_value,k_p_value)#,a_p_value )  \n"
   ]
  },
  {
   "cell_type": "code",
   "execution_count": 41,
   "metadata": {},
   "outputs": [
    {
     "data": {
      "text/plain": [
       "(0.48842114210128784, 0.10368551610614321, 0.0)"
      ]
     },
     "execution_count": 41,
     "metadata": {},
     "output_type": "execute_result"
    }
   ],
   "source": [
    "sample = stats.norm.rvs(size= 40, loc= 60, scale = 20, )   \n",
    "\n",
    "normality_tests(sample) "
   ]
  },
  {
   "cell_type": "markdown",
   "metadata": {},
   "source": [
    "---\n",
    "## 1.1 Variance Tests\n",
    "Aim: Test whether or not the lists a, b and c come from populations with equal variances.\n",
    "\n",
    "- `Levene`    stats.levene(group1,group2) https://docs.scipy.org/doc/scipy/reference/generated/scipy.stats.levene.html\n",
    "- `Barlet's` stats.bartlett https://docs.scipy.org/doc/scipy/reference/generated/scipy.stats.bartlett.html#scipy.stats.bartlett \n",
    "\n",
    "Note 1: Levene’s test is an alternative to Bartlett’s test bartlett in the case where there are significant deviations from normality.\n",
    "\n",
    "Note 2: Levene has advantage to use choice of center in which you can discard outliers by saying trimmed. "
   ]
  },
  {
   "cell_type": "code",
   "execution_count": 56,
   "metadata": {},
   "outputs": [
    {
     "data": {
      "text/plain": [
       "(0.0003680609086010507, 1.3343701836070315e-06)"
      ]
     },
     "execution_count": 56,
     "metadata": {},
     "output_type": "execute_result"
    }
   ],
   "source": [
    "sample_1 = stats.norm.rvs(size= 40, loc= 60, scale = 20)  \n",
    "sample_2 = stats.norm.rvs(size= 40, loc= 90, scale = 10)  \n",
    "\n",
    "def variance_tests(data1,data2):\n",
    "    l_stat, l_p = stats.levene(data1,data2, center='median')  \n",
    "    b_stat, b_p = stats.bartlett(data1,data2)  \n",
    "    return(l_p, b_p) \n",
    "\n",
    "variance_tests(data1 = sample_1, data2 = sample_2)  "
   ]
  },
  {
   "cell_type": "markdown",
   "metadata": {},
   "source": [
    "---\n",
    "---\n",
    "# 2. Correlation Tests\n",
    "\n",
    "H0: The two samples are independent.\n",
    "\n",
    "H1: Dependency exits between the samples."
   ]
  },
  {
   "cell_type": "markdown",
   "metadata": {},
   "source": [
    "## Correlation Tests Part I:\n",
    "---\n",
    "Aim: Tests whether two samples have a linear relationship.\n",
    "\n",
    "* `Pearson’s Correlation Coefficient:` stats.pearsonr(sample_1,sample_2) : https://docs.scipy.org/doc/scipy/reference/generated/scipy.stats.pearsonr.html \n",
    "\n",
    "Condition: \n",
    "\n",
    "-Observations in each sample are independent and identically distributed (iid).\n",
    "\n",
    "-Observations in each sample are normally distributed.\n",
    "\n",
    "-Observations in each sample have the same variance.\n"
   ]
  },
  {
   "cell_type": "code",
   "execution_count": 37,
   "metadata": {},
   "outputs": [
    {
     "data": {
      "text/plain": [
       "SpearmanrResult(correlation=-0.07823639774859288, pvalue=0.6313293203806494)"
      ]
     },
     "execution_count": 37,
     "metadata": {},
     "output_type": "execute_result"
    }
   ],
   "source": [
    "sample_1 = stats.norm.rvs(size= 40, loc= 60, scale = 20, )   \n",
    "sample_2 = stats.norm.rvs(size= 40, loc= 100, scale = 10, )   \n",
    "\n",
    "p_stat, p_p = stats.pearsonr(sample_1,sample_2) \n",
    " "
   ]
  },
  {
   "cell_type": "markdown",
   "metadata": {},
   "source": [
    "## Correlation Tests Part II:\n",
    "---\n",
    "Aim: Tests whether two samples have a monotonic relationship.\n",
    "\n",
    "Condition: \n",
    "\n",
    "-Observations in each sample are independent and identically distributed (iid).\n",
    "\n",
    "-Observations in each sample can be ranked. \n",
    "* `Spearman’s Rank Correlation:` stats.spearmanr(sample_1,sample_2) https://docs.scipy.org/doc/scipy/reference/generated/scipy.stats.spearmanr.html\n",
    "* `Kendall’s Rank Correlation` stats.kendalltau(sample_1,sample_2) https://docs.scipy.org/doc/scipy/reference/generated/scipy.stats.kendalltau.html\n"
   ]
  },
  {
   "cell_type": "code",
   "execution_count": 57,
   "metadata": {},
   "outputs": [
    {
     "data": {
      "text/plain": [
       "(0.7579920913991244, 0.6920053103832037)"
      ]
     },
     "execution_count": 57,
     "metadata": {},
     "output_type": "execute_result"
    }
   ],
   "source": [
    "sample_1 = stats.norm.rvs(size= 40, loc= 60, scale = 20, )   \n",
    "sample_2 = stats.norm.rvs(size= 40, loc= 100, scale = 10, )   \n",
    "\n",
    "def cor(data1,data2):\n",
    "    s_stat, s_p = stats.spearmanr(data1,data2) \n",
    "    k_stat, k_p = stats.kendalltau(data1,data2) \n",
    "    return(s_p,k_p)\n",
    "\n",
    "cor(data1 = sample_1, data2 = sample_2) "
   ]
  },
  {
   "cell_type": "markdown",
   "metadata": {},
   "source": [
    "## Correlation Tests Part III:\n",
    "---\n",
    "Aim: Tests whether two categorical variables are related or independent.\n",
    "\n",
    "Condition:\n",
    "\n",
    "-Observations used in the calculation of the contingency table are independent.\n",
    "\n",
    "-25 or more examples in each cell of the contingency table.\n",
    "* `Chi-Squared Test` stats.chi2_contingency https://docs.scipy.org/doc/scipy/reference/generated/scipy.stats.chi2_contingency.html"
   ]
  },
  {
   "cell_type": "code",
   "execution_count": 58,
   "metadata": {},
   "outputs": [
    {
     "data": {
      "text/plain": [
       "1.3654632995142594e-30"
      ]
     },
     "execution_count": 58,
     "metadata": {},
     "output_type": "execute_result"
    }
   ],
   "source": [
    "sample_1 = stats.norm.rvs(size= 40, loc= 60, scale = 20, )   \n",
    "sample_2 = stats.norm.rvs(size= 40, loc= 100, scale = 10, )  \n",
    "table = [sample_1, sample_2]  # table = [[40,50,60],[2,7,9]] \n",
    "\n",
    "def cor(data):\n",
    "    stat, p, dof, expected = stats.chi2_contingency(data)\n",
    "    return(p)\n",
    "\n",
    "cor(data = table) "
   ]
  },
  {
   "cell_type": "markdown",
   "metadata": {},
   "source": [
    "---\n",
    "---\n",
    "# 3. Stationary Tests\n",
    "! statsmodels \n",
    "\n",
    "Aim: Tests whether a time series has a unit root, e.g. has a trend or more generally is autoregressive.\n",
    "\n",
    "Condition:\n",
    "-Observations in are temporally ordered.\n",
    "\n",
    "\n",
    "* `Augmented Dickey-Fuller Unit Root Test` stats.adfuller https://www.statsmodels.org/dev/generated/statsmodels.tsa.stattools.adfuller.html"
   ]
  },
  {
   "cell_type": "code",
   "execution_count": 5,
   "metadata": {},
   "outputs": [
    {
     "data": {
      "text/plain": [
       "0.8623863863502361"
      ]
     },
     "execution_count": 5,
     "metadata": {},
     "output_type": "execute_result"
    }
   ],
   "source": [
    "from statsmodels.tsa.stattools import adfuller\n",
    " \n",
    "sample_1 = np.linspace(0,100,100) \n",
    "\n",
    "stat, p, lags, obs, crit, t = adfuller(sample_1)\n",
    "p"
   ]
  },
  {
   "cell_type": "markdown",
   "metadata": {},
   "source": [
    "Aim: Tests whether a time series is trend stationary or not.\n",
    "\n",
    "Condition:\n",
    "-Observations in are temporally ordered.\n",
    "\n",
    "* `Kwiatkowski-Phillips-Schmidt-Shin` kpss https://www.statsmodels.org/dev/generated/statsmodels.tsa.stattools.kpss.html"
   ]
  },
  {
   "cell_type": "code",
   "execution_count": 8,
   "metadata": {},
   "outputs": [
    {
     "name": "stderr",
     "output_type": "stream",
     "text": [
      "c:\\Users\\Asus\\AppData\\Local\\Programs\\Python\\Python310\\lib\\site-packages\\statsmodels\\tsa\\stattools.py:2018: InterpolationWarning: The test statistic is outside of the range of p-values available in the\n",
      "look-up table. The actual p-value is smaller than the p-value returned.\n",
      "\n",
      "  warnings.warn(\n"
     ]
    }
   ],
   "source": [
    "from statsmodels.tsa.stattools import kpss\n",
    "\n",
    "sample_1 = np.linspace(0,100,100) \n",
    "\n",
    "stat, p, lags, crit = kpss(sample_1) \n"
   ]
  },
  {
   "cell_type": "markdown",
   "metadata": {},
   "source": [
    "---\n",
    "---\n",
    "# 4. Parametric Statistical Hypothesis Tests\n",
    "Aim: Tests whether the means of two independent samples are significantly different.\n",
    "\n",
    "Condition:\n",
    "\n",
    "-Observations in each sample are independent/paired and identically distributed (iid).\n",
    "\n",
    "-Observations in each sample are normally distributed.\n",
    "\n",
    "-Observations in each sample have the same variance.\n",
    "\n",
    "Up to 2 samples:\n",
    "* Normal: `Student’s t-test` stats.ttest_ind(sample_1,sample_2) https://docs.scipy.org/doc/scipy/reference/generated/scipy.stats.ttest_ind.html\n",
    "* Paired: `Paired Student’s t-test` stats.ttest_rel(sample_1, sample_2) https://docs.scipy.org/doc/scipy/reference/generated/scipy.stats.ttest_rel.html \n",
    "\n",
    "After two samples:\n",
    "* Normal: `Analysis of Variance Test (ANOVA)` stats.f_oneway(sample_1, sample_2, sample_3) https://docs.scipy.org/doc/scipy/reference/generated/scipy.stats.f_oneway.html\n",
    "* Paired: `Repeated Measures ANOVA Test` AnovaRM https://www.statsmodels.org/stable/generated/statsmodels.stats.anova.AnovaRM.html"
   ]
  },
  {
   "cell_type": "code",
   "execution_count": 38,
   "metadata": {},
   "outputs": [
    {
     "data": {
      "text/plain": [
       "(0.0, 1.0)"
      ]
     },
     "execution_count": 38,
     "metadata": {},
     "output_type": "execute_result"
    }
   ],
   "source": [
    "sample_1 = stats.norm.rvs(size= 40, loc= 60, scale = 20, )   \n",
    "sample_2 = stats.norm.rvs(size= 40, loc= 100, scale = 10, )  \n",
    "sample_3 = stats.norm.rvs(size= 40, loc= 60, scale = 20, )   \n",
    "\n",
    "def t_test(data1=[],data2=[], type = 0):\n",
    "    if type == 0:\n",
    "        o_stat, o_p = stats.ttest_1samp(data1, popmean = np.mean(data1))  \n",
    "        return (o_stat, o_p )\n",
    "    elif type == 1: \n",
    "        t_stat, t_p = stats.ttest_ind(data1, data2) \n",
    "        return(t_stat, t_p)\n",
    "    elif type == 2:\n",
    "        p_stat, p_p = stats.ttest_rel(data1, data2) \n",
    "        return(p_stat, p_p)\n",
    "\n",
    "a_stat, a_p = stats.f_oneway(sample_1, sample_2, sample_3)  "
   ]
  },
  {
   "cell_type": "markdown",
   "metadata": {},
   "source": [
    "Four different drugs lead to different reaction times."
   ]
  },
  {
   "cell_type": "code",
   "execution_count": 28,
   "metadata": {},
   "outputs": [
    {
     "name": "stdout",
     "output_type": "stream",
     "text": [
      "               Anova\n",
      "====================================\n",
      "       F Value Num DF  Den DF Pr > F\n",
      "------------------------------------\n",
      "Effect  0.8129 3.0000 12.0000 0.5110\n",
      "====================================\n",
      "\n"
     ]
    }
   ],
   "source": [
    "from statsmodels.stats.anova import AnovaRM\n",
    "\n",
    "#create data\n",
    "df = pd.DataFrame({'Target': np.repeat([1, 2, 3, 4, 5], 4),'Effect': np.tile([1, 2, 3, 4], 5),\n",
    "                   'Reaction': stats.norm.rvs(size = 20, loc= 25, scale = 10)  }) \n",
    "print(AnovaRM(data=df, depvar='Reaction', subject='Target', within=['Effect']).fit())\n",
    "\n",
    "# Inspired From: https://www.statology.org/repeated-measures-anova-python/ "
   ]
  },
  {
   "cell_type": "markdown",
   "metadata": {},
   "source": [
    "---\n",
    "---\n",
    "# 5. Nonparametric Statistical Hypothesis Tests\n",
    "Aim: Tests whether the distributions of two independent samples are equal or not.\n",
    "\n",
    "Condition:\n",
    "\n",
    "-Observations in each sample are independent/paired and identically distributed (iid).\n",
    "\n",
    "-Observations in each sample can be ranked.\n",
    "\n",
    "* Normal: `Mann-Whitney U Test` stats.mannwhitneyu(sample_1,sample_2) https://docs.scipy.org/doc/scipy/reference/generated/scipy.stats.mannwhitneyu.html \n",
    "* Normal: `Kruskal-Wallis H Test` stats.kruskal(sample_1,sample_2) https://docs.scipy.org/doc/scipy/reference/generated/scipy.stats.kruskal.html\n",
    "* Paired: `Wilcoxon Signed-Rank Test` stats.wilcoxon(sample_1,sample_2) https://docs.scipy.org/doc/scipy/reference/generated/scipy.stats.wilcoxon.html \n",
    "* Paired: ` stats.friedmanchisquare(sample_1,sample_2)"
   ]
  },
  {
   "cell_type": "code",
   "execution_count": null,
   "metadata": {},
   "outputs": [],
   "source": [
    "sample_1 = stats.norm.rvs(size= 40, loc= 60, scale = 20, )   \n",
    "sample_2 = stats.norm.rvs(size= 40, loc= 100, scale = 10, )   \n",
    "sample_3 = stats.norm.rvs(size= 40, loc= 100, scale = 10, )   \n",
    "\n",
    "m_stat, m_p = stats.mannwhitneyu(sample_1,sample_2) \n",
    "k_stat, k_p = stats.kruskal(sample_1,sample_2) \n",
    "w_stat, w_p = stats.wilcoxon(sample_1,sample_2) \n",
    "f_stat, f_p = stats.friedmanchisquare(sample_1,sample_2,sample_3) \n",
    " "
   ]
  },
  {
   "cell_type": "markdown",
   "metadata": {},
   "source": [
    "---"
   ]
  },
  {
   "cell_type": "code",
   "execution_count": 5,
   "metadata": {},
   "outputs": [
    {
     "data": {
      "text/html": [
       "<div>\n",
       "<style scoped>\n",
       "    .dataframe tbody tr th:only-of-type {\n",
       "        vertical-align: middle;\n",
       "    }\n",
       "\n",
       "    .dataframe tbody tr th {\n",
       "        vertical-align: top;\n",
       "    }\n",
       "\n",
       "    .dataframe thead th {\n",
       "        text-align: right;\n",
       "    }\n",
       "</style>\n",
       "<table border=\"1\" class=\"dataframe\">\n",
       "  <thead>\n",
       "    <tr style=\"text-align: right;\">\n",
       "      <th></th>\n",
       "      <th>Class 1</th>\n",
       "      <th>Class 2</th>\n",
       "      <th>Class 3</th>\n",
       "    </tr>\n",
       "  </thead>\n",
       "  <tbody>\n",
       "    <tr>\n",
       "      <th>0</th>\n",
       "      <td>83.428170</td>\n",
       "      <td>78.776195</td>\n",
       "      <td>11.457225</td>\n",
       "    </tr>\n",
       "    <tr>\n",
       "      <th>1</th>\n",
       "      <td>93.250218</td>\n",
       "      <td>64.607907</td>\n",
       "      <td>7.837001</td>\n",
       "    </tr>\n",
       "    <tr>\n",
       "      <th>2</th>\n",
       "      <td>75.725762</td>\n",
       "      <td>64.599814</td>\n",
       "      <td>26.956862</td>\n",
       "    </tr>\n",
       "    <tr>\n",
       "      <th>3</th>\n",
       "      <td>73.218575</td>\n",
       "      <td>75.727275</td>\n",
       "      <td>26.987854</td>\n",
       "    </tr>\n",
       "    <tr>\n",
       "      <th>4</th>\n",
       "      <td>91.755958</td>\n",
       "      <td>58.014597</td>\n",
       "      <td>26.594550</td>\n",
       "    </tr>\n",
       "  </tbody>\n",
       "</table>\n",
       "</div>"
      ],
      "text/plain": [
       "     Class 1    Class 2    Class 3\n",
       "0  83.428170  78.776195  11.457225\n",
       "1  93.250218  64.607907   7.837001\n",
       "2  75.725762  64.599814  26.956862\n",
       "3  73.218575  75.727275  26.987854\n",
       "4  91.755958  58.014597  26.594550"
      ]
     },
     "execution_count": 5,
     "metadata": {},
     "output_type": "execute_result"
    }
   ],
   "source": [
    "Grades1 = pd.Series(stats.norm.rvs(size= 40, loc= 80, scale = 10, ) )\n",
    "Grades2 = pd.Series(stats.norm.rvs(size= 40, loc= 60, scale = 20, ) )\n",
    "Grades3 = pd.Series(stats.norm.rvs(size= 40, loc= 20, scale = 10, ) ) \n",
    "d = {'Class 1':Grades1, 'Class 2':Grades2, 'Class 3':Grades3}\n",
    "data= pd.DataFrame( d ) \n",
    "data.head() "
   ]
  },
  {
   "cell_type": "markdown",
   "metadata": {},
   "source": [
    "# References\n",
    "- https://machinelearningmastery.com/statistical-hypothesis-tests-in-python-cheat-sheet/ \n",
    "- https://www.statology.org/repeated-measures-anova-python/ "
   ]
  }
 ],
 "metadata": {
  "interpreter": {
   "hash": "107d7b120a5b68773a87d4067e673630b35702e55ebab3138143d08b1c4d7cbc"
  },
  "kernelspec": {
   "display_name": "Python 3.10.2 64-bit",
   "language": "python",
   "name": "python3"
  },
  "language_info": {
   "codemirror_mode": {
    "name": "ipython",
    "version": 3
   },
   "file_extension": ".py",
   "mimetype": "text/x-python",
   "name": "python",
   "nbconvert_exporter": "python",
   "pygments_lexer": "ipython3",
   "version": "3.10.2"
  },
  "orig_nbformat": 4
 },
 "nbformat": 4,
 "nbformat_minor": 2
}
